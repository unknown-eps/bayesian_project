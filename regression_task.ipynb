{
 "cells": [
  {
   "cell_type": "code",
   "execution_count": 1,
   "id": "1a4898b9",
   "metadata": {},
   "outputs": [],
   "source": [
    "import numpy as np\n",
    "import matplotlib.pyplot as plt\n",
    "import seaborn as sns\n",
    "import pandas as pd\n",
    "df = pd.read_csv(\"data.csv\")\n",
    "df.head()\n",
    "df[\"final_result\"] = df[\"final_result\"].replace({\"Distinction\": \"Pass\"})\n",
    "df = df[df[\"final_result\"].isin([\"Pass\", \"Fail\"])]\n",
    "df[\"final_result\"].value_counts()\n",
    "# Grouping the education levels together as No Formal Qualifications and Post Graduate Qualification have very low counts\n",
    "# We can combine these with the closest education qualifications\n",
    "df[\"highest_education\"] = df[\"highest_education\"].apply(\n",
    "    lambda x: \"HE Qualification\"\n",
    "    if x in [\"HE Qualification\", \"Post Graduate Qualification\"]\n",
    "    else x\n",
    ")\n",
    "df[\"highest_education\"] = df[\"highest_education\"].apply(\n",
    "    lambda x: \"Lower Than A level\"\n",
    "    if x in [\"Lower Than A Level\", \"No Formal quals\"]\n",
    "    else x\n",
    ")"
   ]
  },
  {
   "cell_type": "code",
   "execution_count": 2,
   "id": "ddde4f9a",
   "metadata": {},
   "outputs": [],
   "source": [
    "df = df.dropna()"
   ]
  },
  {
   "cell_type": "code",
   "execution_count": 3,
   "id": "afad5617",
   "metadata": {},
   "outputs": [
    {
     "name": "stdout",
     "output_type": "stream",
     "text": [
      "length of df:  20290\n"
     ]
    }
   ],
   "source": [
    "print(\"length of df: \", len(df))"
   ]
  },
  {
   "cell_type": "code",
   "execution_count": 4,
   "id": "9f7a4965",
   "metadata": {},
   "outputs": [],
   "source": [
    "df = df.drop(['id_student','code_presentation','region','final_result','module_presentation','mark','total_score*weight'],axis=1)"
   ]
  }
 ],
 "metadata": {
  "kernelspec": {
   "display_name": "ml",
   "language": "python",
   "name": "python3"
  },
  "language_info": {
   "codemirror_mode": {
    "name": "ipython",
    "version": 3
   },
   "file_extension": ".py",
   "mimetype": "text/x-python",
   "name": "python",
   "nbconvert_exporter": "python",
   "pygments_lexer": "ipython3",
   "version": "3.12.2"
  }
 },
 "nbformat": 4,
 "nbformat_minor": 5
}
